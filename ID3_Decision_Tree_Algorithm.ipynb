{
  "nbformat": 4,
  "nbformat_minor": 0,
  "metadata": {
    "colab": {
      "provenance": [],
      "include_colab_link": true
    },
    "kernelspec": {
      "name": "python3",
      "display_name": "Python 3"
    },
    "language_info": {
      "name": "python"
    }
  },
  "cells": [
    {
      "cell_type": "markdown",
      "metadata": {
        "id": "view-in-github",
        "colab_type": "text"
      },
      "source": [
        "<a href=\"https://colab.research.google.com/github/Pragna235/Decision-Tree-Model---Tennis-Dataset/blob/main/ID3_Decision_Tree_Algorithm.ipynb\" target=\"_parent\"><img src=\"https://colab.research.google.com/assets/colab-badge.svg\" alt=\"Open In Colab\"/></a>"
      ]
    },
    {
      "cell_type": "markdown",
      "metadata": {
        "id": "esaoLCWgpXCP"
      },
      "source": [
        "Implementation of ID3 Decision Tree Classifier:\n",
        "\n",
        "1. Entropy of a Set\n",
        "\n",
        "2. Average Information Entropy of attribute given a set\n",
        "\n",
        "3. Information Gain (IG) of each attribute and attribute with max IG."
      ]
    },
    {
      "cell_type": "code",
      "source": [
        "from google.colab import drive\n",
        "drive.mount('/content/drive')"
      ],
      "metadata": {
        "colab": {
          "base_uri": "https://localhost:8080/"
        },
        "id": "KShUvTF6grMW",
        "outputId": "1505f4e4-458f-4537-9a66-c2090188ceb7"
      },
      "execution_count": 17,
      "outputs": [
        {
          "output_type": "stream",
          "name": "stdout",
          "text": [
            "Drive already mounted at /content/drive; to attempt to forcibly remount, call drive.mount(\"/content/drive\", force_remount=True).\n"
          ]
        }
      ]
    },
    {
      "cell_type": "code",
      "metadata": {
        "id": "ouJtqDneb-zs"
      },
      "source": [
        "# Find Entropy Function\n",
        "\n",
        "import numpy as np\n",
        "def find_entropy(df):\n",
        "  Class = df.keys()[-1]\n",
        "  values = df[Class].unique()\n",
        "  entropy = 0\n",
        "  for value in values:\n",
        "    prob = df[Class].value_counts()[value]/len(df[Class])\n",
        "    entropy += -prob * np.log2(prob)\n",
        "  return np.float(entropy)"
      ],
      "execution_count": 18,
      "outputs": []
    },
    {
      "cell_type": "code",
      "metadata": {
        "id": "alWz6i-3qSVk"
      },
      "source": [
        "# Find entropy attribute\n",
        "def find_entropy_attribute(df, attribute):\n",
        "  Class = df.keys()[-1]\n",
        "  target_values = df[Class].unique()\n",
        "  attribute_values = df[attribute].unique()\n",
        "  avg_entropy = 0\n",
        "  for value in attribute_values:\n",
        "    entropy = 0\n",
        "    for value1 in target_values:\n",
        "      num = len(df[attribute][df[attribute] == value][df[Class] == value1])\n",
        "      den = len(df[attribute][df[attribute] == value])\n",
        "      prob = num/den\n",
        "      entropy += -prob * np.log2(prob + 0.000001)\n",
        "    avg_entropy += (den/len(df))*entropy\n",
        "  return np.float(avg_entropy)"
      ],
      "execution_count": 19,
      "outputs": []
    },
    {
      "cell_type": "code",
      "metadata": {
        "id": "mjzjonoorZyw"
      },
      "source": [
        "# Find Winner\n",
        "def find_winner(df):\n",
        "  IG = []\n",
        "  for key in df.keys()[:-1]:\n",
        "    IG.append(find_entropy(df) - find_entropy_attribute(df, key))\n",
        "  return df.keys()[:-1][np.argmax(IG)]"
      ],
      "execution_count": 20,
      "outputs": []
    },
    {
      "cell_type": "code",
      "metadata": {
        "id": "4HTXpPkPryjP"
      },
      "source": [
        "def get_subtable(df, attribute, value):\n",
        "  return df[df[attribute] == value].reset_index(drop = True)"
      ],
      "execution_count": 21,
      "outputs": []
    },
    {
      "cell_type": "code",
      "metadata": {
        "id": "-yvORUxNsMNv"
      },
      "source": [
        "def buildtree(df, tree = None):\n",
        "  node = find_winner(df)\n",
        "  attvalue = np.unique(df[node])\n",
        "  Class = df.keys()[-1]\n",
        "  if tree is None:\n",
        "    tree = {}\n",
        "    tree[node] = {}\n",
        "  for value in attvalue:\n",
        "    subtable = get_subtable(df,node,value)\n",
        "    Clvalue, counts = np.unique(subtable[Class], return_counts = True)\n",
        "    if len(counts) == 1:\n",
        "      tree[node][value] = Clvalue[0]\n",
        "    else:\n",
        "      tree[node][value] = buildtree(subtable)\n",
        "  return tree"
      ],
      "execution_count": 22,
      "outputs": []
    },
    {
      "cell_type": "code",
      "metadata": {
        "id": "Sz4B_0Cns8p7"
      },
      "source": [
        "import pandas as pd\n",
        "df = pd.read_csv('/content/drive/MyDrive/PlayTennis.csv')"
      ],
      "execution_count": 23,
      "outputs": []
    },
    {
      "cell_type": "code",
      "metadata": {
        "id": "0Ymdt-iYtWAW",
        "colab": {
          "base_uri": "https://localhost:8080/"
        },
        "outputId": "1a00f081-629c-4de1-f622-2889dd6110e0"
      },
      "source": [
        "tree = buildtree(df)"
      ],
      "execution_count": 24,
      "outputs": [
        {
          "output_type": "stream",
          "name": "stderr",
          "text": [
            "<ipython-input-18-4217341660d6>:11: DeprecationWarning: `np.float` is a deprecated alias for the builtin `float`. To silence this warning, use `float` by itself. Doing this will not modify any behavior and is safe. If you specifically wanted the numpy scalar type, use `np.float64` here.\n",
            "Deprecated in NumPy 1.20; for more details and guidance: https://numpy.org/devdocs/release/1.20.0-notes.html#deprecations\n",
            "  return np.float(entropy)\n",
            "<ipython-input-19-81067c7d688a>:15: DeprecationWarning: `np.float` is a deprecated alias for the builtin `float`. To silence this warning, use `float` by itself. Doing this will not modify any behavior and is safe. If you specifically wanted the numpy scalar type, use `np.float64` here.\n",
            "Deprecated in NumPy 1.20; for more details and guidance: https://numpy.org/devdocs/release/1.20.0-notes.html#deprecations\n",
            "  return np.float(avg_entropy)\n",
            "<ipython-input-18-4217341660d6>:11: DeprecationWarning: `np.float` is a deprecated alias for the builtin `float`. To silence this warning, use `float` by itself. Doing this will not modify any behavior and is safe. If you specifically wanted the numpy scalar type, use `np.float64` here.\n",
            "Deprecated in NumPy 1.20; for more details and guidance: https://numpy.org/devdocs/release/1.20.0-notes.html#deprecations\n",
            "  return np.float(entropy)\n",
            "<ipython-input-19-81067c7d688a>:15: DeprecationWarning: `np.float` is a deprecated alias for the builtin `float`. To silence this warning, use `float` by itself. Doing this will not modify any behavior and is safe. If you specifically wanted the numpy scalar type, use `np.float64` here.\n",
            "Deprecated in NumPy 1.20; for more details and guidance: https://numpy.org/devdocs/release/1.20.0-notes.html#deprecations\n",
            "  return np.float(avg_entropy)\n",
            "<ipython-input-18-4217341660d6>:11: DeprecationWarning: `np.float` is a deprecated alias for the builtin `float`. To silence this warning, use `float` by itself. Doing this will not modify any behavior and is safe. If you specifically wanted the numpy scalar type, use `np.float64` here.\n",
            "Deprecated in NumPy 1.20; for more details and guidance: https://numpy.org/devdocs/release/1.20.0-notes.html#deprecations\n",
            "  return np.float(entropy)\n",
            "<ipython-input-19-81067c7d688a>:15: DeprecationWarning: `np.float` is a deprecated alias for the builtin `float`. To silence this warning, use `float` by itself. Doing this will not modify any behavior and is safe. If you specifically wanted the numpy scalar type, use `np.float64` here.\n",
            "Deprecated in NumPy 1.20; for more details and guidance: https://numpy.org/devdocs/release/1.20.0-notes.html#deprecations\n",
            "  return np.float(avg_entropy)\n",
            "<ipython-input-18-4217341660d6>:11: DeprecationWarning: `np.float` is a deprecated alias for the builtin `float`. To silence this warning, use `float` by itself. Doing this will not modify any behavior and is safe. If you specifically wanted the numpy scalar type, use `np.float64` here.\n",
            "Deprecated in NumPy 1.20; for more details and guidance: https://numpy.org/devdocs/release/1.20.0-notes.html#deprecations\n",
            "  return np.float(entropy)\n",
            "<ipython-input-19-81067c7d688a>:15: DeprecationWarning: `np.float` is a deprecated alias for the builtin `float`. To silence this warning, use `float` by itself. Doing this will not modify any behavior and is safe. If you specifically wanted the numpy scalar type, use `np.float64` here.\n",
            "Deprecated in NumPy 1.20; for more details and guidance: https://numpy.org/devdocs/release/1.20.0-notes.html#deprecations\n",
            "  return np.float(avg_entropy)\n",
            "<ipython-input-18-4217341660d6>:11: DeprecationWarning: `np.float` is a deprecated alias for the builtin `float`. To silence this warning, use `float` by itself. Doing this will not modify any behavior and is safe. If you specifically wanted the numpy scalar type, use `np.float64` here.\n",
            "Deprecated in NumPy 1.20; for more details and guidance: https://numpy.org/devdocs/release/1.20.0-notes.html#deprecations\n",
            "  return np.float(entropy)\n",
            "<ipython-input-19-81067c7d688a>:15: DeprecationWarning: `np.float` is a deprecated alias for the builtin `float`. To silence this warning, use `float` by itself. Doing this will not modify any behavior and is safe. If you specifically wanted the numpy scalar type, use `np.float64` here.\n",
            "Deprecated in NumPy 1.20; for more details and guidance: https://numpy.org/devdocs/release/1.20.0-notes.html#deprecations\n",
            "  return np.float(avg_entropy)\n",
            "<ipython-input-18-4217341660d6>:11: DeprecationWarning: `np.float` is a deprecated alias for the builtin `float`. To silence this warning, use `float` by itself. Doing this will not modify any behavior and is safe. If you specifically wanted the numpy scalar type, use `np.float64` here.\n",
            "Deprecated in NumPy 1.20; for more details and guidance: https://numpy.org/devdocs/release/1.20.0-notes.html#deprecations\n",
            "  return np.float(entropy)\n",
            "<ipython-input-19-81067c7d688a>:15: DeprecationWarning: `np.float` is a deprecated alias for the builtin `float`. To silence this warning, use `float` by itself. Doing this will not modify any behavior and is safe. If you specifically wanted the numpy scalar type, use `np.float64` here.\n",
            "Deprecated in NumPy 1.20; for more details and guidance: https://numpy.org/devdocs/release/1.20.0-notes.html#deprecations\n",
            "  return np.float(avg_entropy)\n",
            "<ipython-input-18-4217341660d6>:11: DeprecationWarning: `np.float` is a deprecated alias for the builtin `float`. To silence this warning, use `float` by itself. Doing this will not modify any behavior and is safe. If you specifically wanted the numpy scalar type, use `np.float64` here.\n",
            "Deprecated in NumPy 1.20; for more details and guidance: https://numpy.org/devdocs/release/1.20.0-notes.html#deprecations\n",
            "  return np.float(entropy)\n",
            "<ipython-input-19-81067c7d688a>:15: DeprecationWarning: `np.float` is a deprecated alias for the builtin `float`. To silence this warning, use `float` by itself. Doing this will not modify any behavior and is safe. If you specifically wanted the numpy scalar type, use `np.float64` here.\n",
            "Deprecated in NumPy 1.20; for more details and guidance: https://numpy.org/devdocs/release/1.20.0-notes.html#deprecations\n",
            "  return np.float(avg_entropy)\n",
            "<ipython-input-18-4217341660d6>:11: DeprecationWarning: `np.float` is a deprecated alias for the builtin `float`. To silence this warning, use `float` by itself. Doing this will not modify any behavior and is safe. If you specifically wanted the numpy scalar type, use `np.float64` here.\n",
            "Deprecated in NumPy 1.20; for more details and guidance: https://numpy.org/devdocs/release/1.20.0-notes.html#deprecations\n",
            "  return np.float(entropy)\n",
            "<ipython-input-19-81067c7d688a>:15: DeprecationWarning: `np.float` is a deprecated alias for the builtin `float`. To silence this warning, use `float` by itself. Doing this will not modify any behavior and is safe. If you specifically wanted the numpy scalar type, use `np.float64` here.\n",
            "Deprecated in NumPy 1.20; for more details and guidance: https://numpy.org/devdocs/release/1.20.0-notes.html#deprecations\n",
            "  return np.float(avg_entropy)\n",
            "<ipython-input-18-4217341660d6>:11: DeprecationWarning: `np.float` is a deprecated alias for the builtin `float`. To silence this warning, use `float` by itself. Doing this will not modify any behavior and is safe. If you specifically wanted the numpy scalar type, use `np.float64` here.\n",
            "Deprecated in NumPy 1.20; for more details and guidance: https://numpy.org/devdocs/release/1.20.0-notes.html#deprecations\n",
            "  return np.float(entropy)\n",
            "<ipython-input-19-81067c7d688a>:15: DeprecationWarning: `np.float` is a deprecated alias for the builtin `float`. To silence this warning, use `float` by itself. Doing this will not modify any behavior and is safe. If you specifically wanted the numpy scalar type, use `np.float64` here.\n",
            "Deprecated in NumPy 1.20; for more details and guidance: https://numpy.org/devdocs/release/1.20.0-notes.html#deprecations\n",
            "  return np.float(avg_entropy)\n",
            "<ipython-input-18-4217341660d6>:11: DeprecationWarning: `np.float` is a deprecated alias for the builtin `float`. To silence this warning, use `float` by itself. Doing this will not modify any behavior and is safe. If you specifically wanted the numpy scalar type, use `np.float64` here.\n",
            "Deprecated in NumPy 1.20; for more details and guidance: https://numpy.org/devdocs/release/1.20.0-notes.html#deprecations\n",
            "  return np.float(entropy)\n",
            "<ipython-input-19-81067c7d688a>:15: DeprecationWarning: `np.float` is a deprecated alias for the builtin `float`. To silence this warning, use `float` by itself. Doing this will not modify any behavior and is safe. If you specifically wanted the numpy scalar type, use `np.float64` here.\n",
            "Deprecated in NumPy 1.20; for more details and guidance: https://numpy.org/devdocs/release/1.20.0-notes.html#deprecations\n",
            "  return np.float(avg_entropy)\n",
            "<ipython-input-18-4217341660d6>:11: DeprecationWarning: `np.float` is a deprecated alias for the builtin `float`. To silence this warning, use `float` by itself. Doing this will not modify any behavior and is safe. If you specifically wanted the numpy scalar type, use `np.float64` here.\n",
            "Deprecated in NumPy 1.20; for more details and guidance: https://numpy.org/devdocs/release/1.20.0-notes.html#deprecations\n",
            "  return np.float(entropy)\n",
            "<ipython-input-19-81067c7d688a>:15: DeprecationWarning: `np.float` is a deprecated alias for the builtin `float`. To silence this warning, use `float` by itself. Doing this will not modify any behavior and is safe. If you specifically wanted the numpy scalar type, use `np.float64` here.\n",
            "Deprecated in NumPy 1.20; for more details and guidance: https://numpy.org/devdocs/release/1.20.0-notes.html#deprecations\n",
            "  return np.float(avg_entropy)\n",
            "<ipython-input-18-4217341660d6>:11: DeprecationWarning: `np.float` is a deprecated alias for the builtin `float`. To silence this warning, use `float` by itself. Doing this will not modify any behavior and is safe. If you specifically wanted the numpy scalar type, use `np.float64` here.\n",
            "Deprecated in NumPy 1.20; for more details and guidance: https://numpy.org/devdocs/release/1.20.0-notes.html#deprecations\n",
            "  return np.float(entropy)\n",
            "<ipython-input-19-81067c7d688a>:15: DeprecationWarning: `np.float` is a deprecated alias for the builtin `float`. To silence this warning, use `float` by itself. Doing this will not modify any behavior and is safe. If you specifically wanted the numpy scalar type, use `np.float64` here.\n",
            "Deprecated in NumPy 1.20; for more details and guidance: https://numpy.org/devdocs/release/1.20.0-notes.html#deprecations\n",
            "  return np.float(avg_entropy)\n"
          ]
        }
      ]
    },
    {
      "cell_type": "code",
      "metadata": {
        "colab": {
          "base_uri": "https://localhost:8080/"
        },
        "id": "lxbuAhF3tfBs",
        "outputId": "8501e842-ddda-446c-be90-261988061f4d"
      },
      "source": [
        "import pprint\n",
        "pprint.pprint(tree)"
      ],
      "execution_count": 25,
      "outputs": [
        {
          "output_type": "stream",
          "name": "stdout",
          "text": [
            "{'Outlook': {'Overcast': 'Yes',\n",
            "             'Rain': {'Wind': {'Strong': 'No', 'Weak': 'Yes'}},\n",
            "             'Sunny': {'Humidity': {'High': 'No', 'Normal': 'Yes'}}}}\n"
          ]
        }
      ]
    },
    {
      "cell_type": "code",
      "metadata": {
        "id": "601jmzi2ttBR"
      },
      "source": [
        "def predict(inst, tree):\n",
        "  for node in tree.keys():\n",
        "    value = inst[node]\n",
        "    tree = tree[node][value]\n",
        "    prediction = 0\n",
        "    if type(tree) is dict:\n",
        "      prediction = predict(inst, tree)\n",
        "    else:\n",
        "      prediction = tree\n",
        "  return prediction"
      ],
      "execution_count": 26,
      "outputs": []
    },
    {
      "cell_type": "code",
      "metadata": {
        "id": "QGCqjT62uDQc"
      },
      "source": [
        "df1 = pd.read_csv('/content/drive/MyDrive/test.csv')"
      ],
      "execution_count": null,
      "outputs": []
    },
    {
      "cell_type": "code",
      "metadata": {
        "colab": {
          "base_uri": "https://localhost:8080/"
        },
        "id": "52BbCKgbuHgb",
        "outputId": "5bd0a4a8-8133-495d-faa9-a9c67e97a9f6"
      },
      "source": [
        "Y_label = []\n",
        "for i in range(len(df1)):\n",
        "  inst = df1.iloc[i,:]\n",
        "  prediction = predict(inst, tree)\n",
        "  Y_label.append(prediction)\n",
        "print(Y_label)"
      ],
      "execution_count": null,
      "outputs": [
        {
          "output_type": "stream",
          "name": "stdout",
          "text": [
            "['No', 'Yes', 'Yes', 'No', 'No', 'Yes', 'Yes', 'Yes', 'No', 'Yes']\n"
          ]
        }
      ]
    },
    {
      "cell_type": "code",
      "metadata": {
        "colab": {
          "base_uri": "https://localhost:8080/"
        },
        "id": "SI7I22d0uZo-",
        "outputId": "60634f40-962b-4197-b500-2cfa42ec591c"
      },
      "source": [
        "from sklearn import metrics\n",
        "print(metrics.classification_report(df1.iloc[:,-1], Y_label))"
      ],
      "execution_count": null,
      "outputs": [
        {
          "output_type": "stream",
          "name": "stdout",
          "text": [
            "              precision    recall  f1-score   support\n",
            "\n",
            "          No       0.25      0.20      0.22         5\n",
            "         Yes       0.33      0.40      0.36         5\n",
            "\n",
            "    accuracy                           0.30        10\n",
            "   macro avg       0.29      0.30      0.29        10\n",
            "weighted avg       0.29      0.30      0.29        10\n",
            "\n"
          ]
        }
      ]
    },
    {
      "cell_type": "code",
      "source": [
        "print(metrics.accuracy_score(df1.iloc[:,-1],Y_label))"
      ],
      "metadata": {
        "colab": {
          "base_uri": "https://localhost:8080/"
        },
        "id": "emIo9G1vrHH0",
        "outputId": "81119cc0-5dd1-41e8-bedc-498d639a26d8"
      },
      "execution_count": 28,
      "outputs": [
        {
          "output_type": "stream",
          "name": "stdout",
          "text": [
            "0.3\n"
          ]
        }
      ]
    }
  ]
}